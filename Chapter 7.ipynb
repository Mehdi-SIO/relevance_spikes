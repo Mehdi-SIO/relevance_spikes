{
 "cells": [
  {
   "cell_type": "code",
   "execution_count": 1,
   "metadata": {
    "collapsed": true
   },
   "outputs": [],
   "source": [
    "import requests\n",
    "import json"
   ]
  },
  {
   "cell_type": "code",
   "execution_count": 2,
   "metadata": {
    "collapsed": true
   },
   "outputs": [],
   "source": [
    "analysisSettings={}\n",
    "mappingSettings={}"
   ]
  },
  {
   "cell_type": "markdown",
   "metadata": {},
   "source": [
    "### Extract movies from tmbd.json"
   ]
  },
  {
   "cell_type": "code",
   "execution_count": 4,
   "metadata": {
    "collapsed": true
   },
   "outputs": [],
   "source": [
    "def extract():\n",
    "    f = open('tmdb.json')\n",
    "    if f:\n",
    "        return json.loads(f.read());"
   ]
  },
  {
   "cell_type": "markdown",
   "metadata": {},
   "source": [
    "### Indexing with Bulk API"
   ]
  },
  {
   "cell_type": "code",
   "execution_count": 8,
   "metadata": {
    "collapsed": true
   },
   "outputs": [],
   "source": [
    "def reindex(analysisSettings={}, mappingSettings={}, movieDict={}):\n",
    "    settings = {\n",
    "        \"number_of_ shards\": 1,\n",
    "        \"index\": {\n",
    "            \"analysis\": analysisSettings,\n",
    "        }\n",
    "    }\n",
    "    if mappingSettings:\n",
    "        settings['mappings'] = mappingSettings\n",
    "        \n",
    "    resp = requests.delete('http://192.168.32.10:9200/tmdb')\n",
    "    resp = requests.put('http://192.168.32.10:9200/tmdb', data=json.dumps(settings))\n",
    "    bulkMovies = \"\"\n",
    "    for id, movie in movieDict.iteritems():\n",
    "        addCmd = {\"index\": {\"_index\": \"tmdb\",\n",
    "                           \"_type\": \"movie\",\n",
    "                           \"_id\": movie[\"id\"]}}\n",
    "        bulkMovies += json.dumps(addCmd) + \"\\n\" + json.dumps(movie) + \"\\n\"\n",
    "    resp = requests.post(\"http://192.168.32.10:9200/_bulk\", data=bulkMovies)"
   ]
  },
  {
   "cell_type": "markdown",
   "metadata": {},
   "source": [
    "### Pulling data into Elasticsearch"
   ]
  },
  {
   "cell_type": "code",
   "execution_count": 9,
   "metadata": {
    "collapsed": true
   },
   "outputs": [],
   "source": [
    "movieDict = extract()\n",
    "reindex(movieDict=movieDict)"
   ]
  },
  {
   "cell_type": "markdown",
   "metadata": {},
   "source": [
    "### Search Function"
   ]
  },
  {
   "cell_type": "code",
   "execution_count": 11,
   "metadata": {
    "collapsed": false
   },
   "outputs": [],
   "source": [
    "def search(query):\n",
    "    url = 'http://192.168.32.10:9200/tmdb/movie/_search'\n",
    "    httpResp = requests.get(url, data=json.dumps(query))\n",
    "    searchHits = json.loads(httpResp.text)['hits']\n",
    "    print \"Num\\tRelevance Score \\t\\tMovie Title\"\n",
    "    for idx, hit in enumerate(searchHits['hits']):\n",
    "        print \"%s\\t%s\\t\\t%s\" % (idx + 1, hit['_score'], hit['_source']['title'])"
   ]
  },
  {
   "cell_type": "markdown",
   "metadata": {},
   "source": [
    "### Search query"
   ]
  },
  {
   "cell_type": "code",
   "execution_count": 16,
   "metadata": {
    "collapsed": true
   },
   "outputs": [],
   "source": [
    "usersSearch = 'william shatner patrick stewart'\n",
    "query = {\n",
    "    \"query\": {\n",
    "        \"multi_match\": {\n",
    "            \"query\": usersSearch,\n",
    "            \"fields\": [\"overview\", \"title\", \"directors.name\", \"cast.name\"],\n",
    "            \"type\": \"cross_fields\"\n",
    "        }\n",
    "    }\n",
    "}\n",
    "search(query)"
   ]
  },
  {
   "cell_type": "code",
   "execution_count": 17,
   "metadata": {
    "collapsed": false
   },
   "outputs": [
    {
     "name": "stdout",
     "output_type": "stream",
     "text": [
      "Num\tRelevance Score \t\tMovie Title\n",
      "1\t0.92778635\t\tStar Trek V: The Final Frontier\n",
      "2\t0.7915544\t\tStar Trek: Generations\n",
      "3\t0.4553907\t\tDark Skies\n",
      "4\t0.42914188\t\tShowtime\n",
      "5\t0.3941992\t\tOsmosis Jones\n",
      "6\t0.3442495\t\tBill & Ted's Bogus Journey\n",
      "7\t0.34294215\t\tThe Wild\n",
      "8\t0.33406225\t\tStar Trek: Nemesis\n",
      "9\t0.3218564\t\tMiss Congeniality 2: Armed and Fabulous\n",
      "10\t0.29619905\t\tMiss Congeniality\n"
     ]
    }
   ],
   "source": [
    "search(query)"
   ]
  },
  {
   "cell_type": "markdown",
   "metadata": {},
   "source": [
    "### 7.2 Boosting with additional Boolean clause"
   ]
  },
  {
   "cell_type": "code",
   "execution_count": 19,
   "metadata": {
    "collapsed": false
   },
   "outputs": [
    {
     "name": "stdout",
     "output_type": "stream",
     "text": [
      "Num\tRelevance Score \t\tMovie Title\n",
      "1\t1.3519554\t\tStar Trek V: The Final Frontier\n",
      "2\t1.2357156\t\tStar Trek: Generations\n",
      "3\t0.9266564\t\tStar Trek: Nemesis\n",
      "4\t0.6770382\t\tStar Trek: First Contact\n",
      "5\t0.6341759\t\tStar Trek\n",
      "6\t0.6201064\t\tStar Trek: Insurrection\n",
      "7\t0.618581\t\tStar Trek: The Motion Picture\n",
      "8\t0.6083424\t\tStar Trek II: The Wrath of Khan\n",
      "9\t0.5362432\t\tStar Trek IV: The Voyage Home\n",
      "10\t0.5362432\t\tStar Trek III: The Search for Spock\n"
     ]
    }
   ],
   "source": [
    "usersSearch = 'william shatner patrick stewart'\n",
    "query = {\n",
    "    \"query\": {\n",
    "        \"bool\": {\n",
    "            \"should\": [\n",
    "                {\"multi_match\": {\n",
    "                        \"query\": usersSearch,\n",
    "                        \"fields\": [\"overview\", \"title\", \"directors.name\", \"cast.name\"],\n",
    "                        \"type\": \"cross_fields\"\n",
    "                    }},\n",
    "                    {\n",
    "                    \"match_phrase\": {\n",
    "                        \"title\": {\n",
    "                            \"query\": \"star trek\",\n",
    "                            \"boost\": 0.1\n",
    "                        }}}\n",
    "                    ]\n",
    "        }\n",
    "    },\n",
    "}\n",
    "search(query)"
   ]
  },
  {
   "cell_type": "markdown",
   "metadata": {},
   "source": [
    "### 7.3 Applying a mutliplier for Star Trek Movies"
   ]
  },
  {
   "cell_type": "code",
   "execution_count": 24,
   "metadata": {
    "collapsed": false
   },
   "outputs": [
    {
     "name": "stdout",
     "output_type": "stream",
     "text": [
      "Num\tRelevance Score \t\tMovie Title\n",
      "1\t2.3194659\t\tStar Trek V: The Final Frontier\n",
      "2\t1.978886\t\tStar Trek: Generations\n",
      "3\t0.8351556\t\tStar Trek: Nemesis\n",
      "4\t0.68567824\t\tStar Trek II: The Wrath of Khan\n",
      "5\t0.5713986\t\tStar Trek: The Motion Picture\n",
      "6\t0.5599847\t\tStar Trek IV: The Voyage Home\n",
      "7\t0.5599847\t\tStar Trek III: The Search for Spock\n",
      "8\t0.50876653\t\tStar Trek: Insurrection\n",
      "9\t0.4571188\t\tStar Trek VI: The Undiscovered Country\n",
      "10\t0.4553907\t\tDark Skies\n"
     ]
    }
   ],
   "source": [
    "usersSearch = 'william shatner patrick stewart'\n",
    "query = {\n",
    "    \"query\": {\n",
    "        \"function_score\": {\n",
    "            \"query\": {\n",
    "                \"multi_match\": {\n",
    "                        \"query\": usersSearch,\n",
    "                        \"fields\": [\"overview\", \"title\", \"directors.name\", \"cast.name\"],\n",
    "                        \"type\": \"cross_fields\"\n",
    "                    }\n",
    "                },\n",
    "                \"functions\": [\n",
    "                    {\n",
    "                        \"weight\": 2.5,\n",
    "                        \"filter\": {\n",
    "                            \"query\": {\n",
    "                                \"match_phrase\": {\n",
    "                                    \"title\": \"star trek\"\n",
    "                                }\n",
    "                            }\n",
    "                        }\n",
    "                    }\n",
    "                ]\n",
    "            }\n",
    "        }\n",
    "    }\n",
    "\n",
    "\n",
    "\n",
    "search(query)"
   ]
  },
  {
   "cell_type": "markdown",
   "metadata": {},
   "source": [
    "### 7.4 Filtering instead of boosting Star Trek results"
   ]
  },
  {
   "cell_type": "code",
   "execution_count": 25,
   "metadata": {
    "collapsed": false
   },
   "outputs": [
    {
     "name": "stdout",
     "output_type": "stream",
     "text": [
      "Num\tRelevance Score \t\tMovie Title\n"
     ]
    }
   ],
   "source": [
    "usersSearch = 'william shatner patrick stewart'\n",
    "query = {\n",
    "    \"query\": {\n",
    "        \"bool\": {\n",
    "            \"should\": [{\n",
    "                \"multi_match\": {\n",
    "                        \"query\": usersSearch,\n",
    "                        \"fields\": [\"overview\", \"title\", \"directors.name\", \"cast.name\"],\n",
    "                        \"type\": \"cross_fields\"\n",
    "                    }\n",
    "                }],\n",
    "            \"filter\": [{\n",
    "                    \"query\": {\n",
    "                        \"match_phrase\": {\n",
    "                            \"title\": \"star_trek\"\n",
    "                        }\n",
    "                    }\n",
    "                }]\n",
    "            }\n",
    "        }\n",
    "    }\n",
    "\n",
    "\n",
    "\n",
    "search(query)"
   ]
  },
  {
   "cell_type": "markdown",
   "metadata": {},
   "source": [
    "### 7.5 Change Reindexation"
   ]
  },
  {
   "cell_type": "code",
   "execution_count": 41,
   "metadata": {
    "collapsed": true
   },
   "outputs": [],
   "source": [
    "def reindex(analysisSettings={}, mappingSettings={}, movieDict={}):\n",
    "    settings = {\n",
    "        \"number_of_ shards\": 1,\n",
    "        \"index\": {\n",
    "            \"analysis\": analysisSettings,\n",
    "        }\n",
    "    }\n",
    "    if mappingSettings:\n",
    "        settings['mappings'] = mappingSettings\n",
    "        \n",
    "    resp = requests.delete('http://192.168.32.10:9200/tmdb')\n",
    "    resp = requests.put('http://192.168.32.10:9200/tmdb', data=json.dumps(settings))\n",
    "    bulkMovies = \"\"\n",
    "    for id, movie in movieDict.iteritems():\n",
    "        esDoc = movie\n",
    "        transform(esDoc)\n",
    "        addCmd = {\"index\": {\"_index\": \"tmdb\",\n",
    "                           \"_type\": \"movie\",\n",
    "                           \"_id\": movie[\"id\"]}}\n",
    "        bulkMovies += json.dumps(addCmd) + \"\\n\" + json.dumps(movie) + \"\\n\"\n",
    "    resp = requests.post(\"http://192.168.32.10:9200/_bulk\", data=bulkMovies)"
   ]
  },
  {
   "cell_type": "code",
   "execution_count": 40,
   "metadata": {
    "collapsed": false
   },
   "outputs": [],
   "source": [
    "SENTINEL_BEGIN = 'SENTINEL_BEGIN'\n",
    "SENTINEL_END = 'SENTINEL_END'\n",
    "def transform(esDoc):\n",
    "    esDoc['title_exact_match'] = SENTINEL_BEGIN + ' ' + \\\n",
    "                                    esDoc['title'] + ' ' + SENTINEL_END\n",
    "    esDoc['names_exact_match'] = []\n",
    "    for person in esDoc['cast'] + esDoc['directors']:\n",
    "        esDoc['names_exact_match'].append(SENTINEL_BEGIN + ' ' + person['name'] + ' ' + SENTINEL_END)"
   ]
  },
  {
   "cell_type": "code",
   "execution_count": 42,
   "metadata": {
    "collapsed": false
   },
   "outputs": [],
   "source": [
    "reindex(analysisSettings, mappingSettings, movieDict)"
   ]
  },
  {
   "cell_type": "markdown",
   "metadata": {},
   "source": [
    "### 7.6 Isolated testing of your exact-match signal"
   ]
  },
  {
   "cell_type": "code",
   "execution_count": 36,
   "metadata": {
    "collapsed": false
   },
   "outputs": [
    {
     "name": "stdout",
     "output_type": "stream",
     "text": [
      "Num\tRelevance Score \t\tMovie Title\n",
      "1\t7.101176\t\tStar Trek\n"
     ]
    }
   ],
   "source": [
    "usersSearch = \"star trek\"\n",
    "query = {\n",
    "    \"query\": {\n",
    "        \"match_phrase\": {\n",
    "            \"title_exact_match\": {\n",
    "                \"query\": SENTINEL_BEGIN + ' ' + \\\n",
    "                            usersSearch + ' ' + SENTINEL_END,\n",
    "                \"boost\": 0.1\n",
    "            }\n",
    "        }\n",
    "    }\n",
    "}\n",
    "search(query)"
   ]
  },
  {
   "cell_type": "markdown",
   "metadata": {},
   "source": [
    "### 7.8 Boolean Boost on exact-title matching"
   ]
  },
  {
   "cell_type": "code",
   "execution_count": 51,
   "metadata": {
    "collapsed": false
   },
   "outputs": [
    {
     "name": "stdout",
     "output_type": "stream",
     "text": [
      "Num\tRelevance Score \t\tMovie Title\n",
      "1\t9.215305\t\tGood Will Hunting\n",
      "2\t0.0003364306\t\tAs Good as It Gets\n",
      "3\t0.00025581344\t\tGood Night, and Good Luck.\n",
      "4\t0.00020672847\t\tA Good Year\n",
      "5\t0.00020672847\t\tThe Good Shepherd\n",
      "6\t0.00020672847\t\tThe Good Lie\n",
      "7\t0.00017033581\t\tGood Morning, Vietnam\n",
      "8\t0.00017033581\t\tAll Good Things\n",
      "9\t0.00017033581\t\tA Few Good Men\n",
      "10\t0.00016794368\t\tGood People\n"
     ]
    }
   ],
   "source": [
    "usersSearch = \"Good will hunting\"\n",
    "query = {\n",
    "    \"query\": {\n",
    "        \"bool\": {\n",
    "            \"disable_coord\": True,\n",
    "            \"should\": [\n",
    "               { \"match_phrase\": {\n",
    "                    \"title_exact_match\": {\n",
    "                        \"query\": SENTINEL_BEGIN + ' ' + \\\n",
    "                        usersSearch + ' ' + SENTINEL_END,\n",
    "                        \"boost\": 1000\n",
    "                    }\n",
    "                }},\n",
    "                {\"multi_match\": {\n",
    "                        \"query\": usersSearch,\n",
    "                        \"fields\": [\"overview\", \"title\", \"directors.name\", \"cast.name\"],\n",
    "                        \"type\": \"cross_fields\"\n",
    "                    }                  \n",
    "                },\n",
    "            ]\n",
    "        }\n",
    "    }\n",
    "}\n",
    "search(query)"
   ]
  },
  {
   "cell_type": "markdown",
   "metadata": {},
   "source": [
    "### 7.9 Adding a clause for bigrammed matches (base query not shown)"
   ]
  },
  {
   "cell_type": "code",
   "execution_count": 53,
   "metadata": {
    "collapsed": false
   },
   "outputs": [
    {
     "name": "stdout",
     "output_type": "stream",
     "text": [
      "Num\tRelevance Score \t\tMovie Title\n",
      "1\t0.013334134\t\tStar Trek\n",
      "2\t0.011406989\t\tStar Trek: Nemesis\n",
      "3\t0.010667307\t\tStar Trek: First Contact\n",
      "4\t0.009775436\t\tStar Trek: Insurrection\n",
      "5\t0.009775436\t\tStar Trek Into Darkness\n",
      "6\t0.008882249\t\tStar Trek: Generations\n",
      "7\t0.008355431\t\tStar Trek V: The Final Frontier\n",
      "8\t0.007771968\t\tStar Trek: The Motion Picture\n",
      "9\t0.0073315767\t\tStar Trek IV: The Voyage Home\n",
      "10\t0.0073315767\t\tStar Trek III: The Search for Spock\n"
     ]
    }
   ],
   "source": [
    "usersSearch = \"star trek\"\n",
    "query = {\n",
    "    \"query\": {\n",
    "        \"bool\": {\n",
    "            \"should\": [\n",
    "               { \"multi_match\": {\n",
    "                        \"query\": usersSearch,\n",
    "                        \"fields\": [\"overview\", \"title\", \"directors.name\", \"cast.name\"],\n",
    "                        \"type\": \"cross_fields\"\n",
    "                }},\n",
    "                {\"multi_match\": {\n",
    "                        \"query\": usersSearch,\n",
    "                        \"fields\": [\"directors.name.bigrammed\", \"cast.name.bigrammed\"],\n",
    "                        \"type\": \"cross_fields\",\n",
    "                        \"boost\": 100\n",
    "                    }                  \n",
    "                },\n",
    "            ]\n",
    "        }\n",
    "    }\n",
    "}\n",
    "search(query)"
   ]
  },
  {
   "cell_type": "code",
   "execution_count": null,
   "metadata": {
    "collapsed": true
   },
   "outputs": [],
   "source": []
  }
 ],
 "metadata": {
  "kernelspec": {
   "display_name": "Python 2",
   "language": "python",
   "name": "python2"
  },
  "language_info": {
   "codemirror_mode": {
    "name": "ipython",
    "version": 2
   },
   "file_extension": ".py",
   "mimetype": "text/x-python",
   "name": "python",
   "nbconvert_exporter": "python",
   "pygments_lexer": "ipython2",
   "version": "2.7.6"
  }
 },
 "nbformat": 4,
 "nbformat_minor": 0
}

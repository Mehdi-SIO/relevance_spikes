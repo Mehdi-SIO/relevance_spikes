{
 "cells": [
  {
   "cell_type": "code",
   "execution_count": 4,
   "metadata": {
    "collapsed": true
   },
   "outputs": [],
   "source": [
    "import requests\n",
    "import json"
   ]
  },
  {
   "cell_type": "markdown",
   "metadata": {},
   "source": [
    "### Extract movies from tmbd.json"
   ]
  },
  {
   "cell_type": "code",
   "execution_count": 5,
   "metadata": {
    "collapsed": true
   },
   "outputs": [],
   "source": [
    "def extract():\n",
    "    f = open('tmdb.json')\n",
    "    if f:\n",
    "        return json.loads(f.read());"
   ]
  },
  {
   "cell_type": "markdown",
   "metadata": {
    "collapsed": true
   },
   "source": [
    "### Indexing with Bulk API"
   ]
  },
  {
   "cell_type": "code",
   "execution_count": 6,
   "metadata": {
    "collapsed": true
   },
   "outputs": [],
   "source": [
    "def reindex(analysisSettings={}, mappingSettings={}, movieDict={}):\n",
    "    settings = {\n",
    "        \"number_of_ shards\": 1,\n",
    "        \"index\": {\n",
    "            \"analysis\": \"analysisSettings\",\n",
    "        }\n",
    "    }\n",
    "    if mappingSettings:\n",
    "        settings['mappings'] = mappingSettings\n",
    "        \n",
    "    resp = requests.delete('http://192.168.32.10:9200/tmdb')\n",
    "    resp = requests.put('http://192.168.32.10:9200/tmdb', data=json.dumps(settings))\n",
    "    bulkMovies = \"\"\n",
    "    for id, movie in movieDict.iteritems():\n",
    "        addCmd = {\"index\": {\"_index\": \"tmdb\",\n",
    "                           \"_type\": \"movie\",\n",
    "                           \"_id\": movie[\"id\"]}}\n",
    "        bulkMovies += json.dumps(addCmd) + \"\\n\" + json.dumps(movie) + \"\\n\"\n",
    "    resp = requests.post(\"http://192.168.32.10:9200/_bulk\", data=bulkMovies)"
   ]
  },
  {
   "cell_type": "markdown",
   "metadata": {},
   "source": [
    "### Pulling data into Elasticsearch"
   ]
  },
  {
   "cell_type": "code",
   "execution_count": 7,
   "metadata": {
    "collapsed": true
   },
   "outputs": [],
   "source": [
    "movieDict = extract()\n",
    "reindex(movieDict=movieDict)"
   ]
  },
  {
   "cell_type": "markdown",
   "metadata": {},
   "source": [
    "### Search Function"
   ]
  },
  {
   "cell_type": "code",
   "execution_count": 27,
   "metadata": {
    "collapsed": false
   },
   "outputs": [],
   "source": [
    "def search(query):\n",
    "    url = 'http://192.168.32.10:9200/tmdb/movie/_search'\n",
    "    httpResp = requests.get(url, data=json.dumps(query))\n",
    "    searchHits = json.loads(httpResp.text)['hits']\n",
    "    print \"Num\\tRelevance Score \\t\\tMovie Title\"\n",
    "    for idx, hit in enumerate(searchHits['hits']):\n",
    "        print \"%s\\t%s\\t\\t%s\" % (idx + 1, hit['_score'], hit['_source']['title'])"
   ]
  },
  {
   "cell_type": "markdown",
   "metadata": {},
   "source": [
    "### Search query"
   ]
  },
  {
   "cell_type": "code",
   "execution_count": 28,
   "metadata": {
    "collapsed": false
   },
   "outputs": [],
   "source": [
    "usersSearch = 'basketball with cartoon aliens'\n",
    "query = {\n",
    "    \"size\": \"50\",\n",
    "    \"query\": {\n",
    "        \"multi_match\": {\n",
    "            \"query\": usersSearch,\n",
    "            \"fields\": [\"title^10\", \"overview\"],\n",
    "        }\n",
    "    }\n",
    "}"
   ]
  },
  {
   "cell_type": "code",
   "execution_count": 10,
   "metadata": {
    "collapsed": false
   },
   "outputs": [
    {
     "name": "stdout",
     "output_type": "stream",
     "text": [
      "Num\tRelevance Score \t\tMovie Title\n",
      "1\t0.694308\t\tAliens\n",
      "2\t0.4339425\t\tCowboys & Aliens\n",
      "3\t0.4185979\t\tThe Basketball Diaries\n",
      "4\t0.4185979\t\tMonsters vs Aliens\n",
      "5\t0.4069433\t\tAliens in the Attic\n",
      "6\t0.36976868\t\tFriends with Kids\n",
      "7\t0.347154\t\tAliens vs Predator: Requiem\n",
      "8\t0.33664408\t\tHobo with a Shotgun\n",
      "9\t0.29456356\t\tFun with Dick and Jane\n",
      "10\t0.28645036\t\tFrom Paris with Love\n",
      "11\t0.28645036\t\tInterview with the Vampire\n",
      "12\t0.28645036\t\tTo Rome with Love\n",
      "13\t0.28645036\t\tTrouble with the Curve\n",
      "14\t0.26694793\t\tDances with Wolves\n",
      "15\t0.26694793\t\tSleeping with the Enemy\n",
      "16\t0.26694793\t\tJust Go With It\n",
      "17\t0.26694793\t\tGone with the Wind\n",
      "18\t0.25248307\t\tThe Girl Who Played with Fire\n",
      "19\t0.23357943\t\tGirl with a Pearl Earring\n",
      "20\t0.23042528\t\tFriends with Benefits\n",
      "21\t0.23042528\t\tMy Week with Marilyn\n",
      "22\t0.21483776\t\tThe Girl with the Dragon Tattoo\n",
      "23\t0.21483776\t\tThe Girl with the Dragon Tattoo\n",
      "24\t0.20162213\t\tDie Hard: With a Vengeance\n",
      "25\t0.20021094\t\tTwin Peaks: Fire Walk with Me\n",
      "26\t0.17281896\t\tCloudy with a Chance of Meatballs 2\n",
      "27\t0.17281896\t\tThe Life Aquatic With Steve Zissou\n",
      "28\t0.17281896\t\tThe Man with the Golden Gun\n",
      "29\t0.17281896\t\tThe Pirates! In an Adventure with Scientists!\n",
      "30\t0.17281896\t\tCloudy with a Chance of Meatballs\n",
      "31\t0.03235626\t\tMeet Dave\n",
      "32\t0.024490807\t\tSemi-Pro\n",
      "33\t0.022589648\t\tSpeed Racer\n",
      "34\t0.020138515\t\tAlien: Resurrection\n",
      "35\t0.019722141\t\tBedazzled\n",
      "36\t0.01876553\t\tThe Watch\n",
      "37\t0.0176306\t\tDistrict 9\n",
      "38\t0.017119134\t\tSpace Jam\n",
      "39\t0.016858796\t\tThey Live\n",
      "40\t0.015780022\t\tTeen Wolf\n",
      "41\t0.015697422\t\tGrown Ups\n",
      "42\t0.013067122\t\tMen in Black 3\n",
      "43\t0.009782362\t\tThe Flintstones\n",
      "44\t0.009426885\t\tGalaxy Quest\n",
      "45\t0.009239381\t\tPitch Black\n",
      "46\t0.009188777\t\tWhite Men Can't Jump\n",
      "47\t0.009188777\t\tCoach Carter\n",
      "48\t0.007840319\t\tHigh School Musical\n",
      "49\t0.0075939936\t\tDude, Where’s My Car?\n",
      "50\t0.0075939936\t\tCocoon\n"
     ]
    }
   ],
   "source": [
    "search(query)"
   ]
  },
  {
   "cell_type": "markdown",
   "metadata": {
    "collapsed": true
   },
   "source": [
    "### Debugging Analysis"
   ]
  },
  {
   "cell_type": "code",
   "execution_count": 19,
   "metadata": {
    "collapsed": false
   },
   "outputs": [
    {
     "name": "stdout",
     "output_type": "stream",
     "text": [
      "---\n",
      "tokens:\n",
      "- token: \"fire\"\n",
      "  start_offset: 0\n",
      "  end_offset: 4\n",
      "  type: \"<ALPHANUM>\"\n",
      "  position: 0\n",
      "- token: \"with\"\n",
      "  start_offset: 5\n",
      "  end_offset: 9\n",
      "  type: \"<ALPHANUM>\"\n",
      "  position: 1\n",
      "- token: \"fire\"\n",
      "  start_offset: 10\n",
      "  end_offset: 14\n",
      "  type: \"<ALPHANUM>\"\n",
      "  position: 2\n",
      "\n"
     ]
    }
   ],
   "source": [
    "resp = requests.get('http://192.168.32.10:9200/tmdb/_analyze?analyzer=standard&format=yaml', data=\"Fire with Fire\")\n",
    "\n",
    "print resp.text\n",
    "\n"
   ]
  },
  {
   "cell_type": "markdown",
   "metadata": {},
   "source": [
    "### Reindexing with English analyser"
   ]
  },
  {
   "cell_type": "code",
   "execution_count": 30,
   "metadata": {
    "collapsed": true
   },
   "outputs": [],
   "source": [
    "mappingSettings = {\n",
    "    \"movie\": {\n",
    "        \"properties\": {\n",
    "            \"title\": {\n",
    "                \"type\": \"string\",\n",
    "                \"analyser\": \"english\"\n",
    "                },\n",
    "            \"overview\": {\n",
    "                \"type\": \"string\",\n",
    "                \"analyser\": \"english\"\n",
    "            }\n",
    "        }\n",
    "    }\n",
    "}\n",
    "movieDict = extract()\n",
    "reindex(mappingSettings=mappingSettings, movieDict=movieDict)"
   ]
  },
  {
   "cell_type": "code",
   "execution_count": 31,
   "metadata": {
    "collapsed": false
   },
   "outputs": [
    {
     "name": "stdout",
     "output_type": "stream",
     "text": [
      "---\n",
      "tokens:\n",
      "- token: \"fire\"\n",
      "  start_offset: 0\n",
      "  end_offset: 4\n",
      "  type: \"<ALPHANUM>\"\n",
      "  position: 0\n",
      "- token: \"with\"\n",
      "  start_offset: 5\n",
      "  end_offset: 9\n",
      "  type: \"<ALPHANUM>\"\n",
      "  position: 1\n",
      "- token: \"fire\"\n",
      "  start_offset: 10\n",
      "  end_offset: 14\n",
      "  type: \"<ALPHANUM>\"\n",
      "  position: 2\n",
      "\n"
     ]
    }
   ],
   "source": [
    "resp = requests.get('http://192.168.32.10:9200/tmdb/_analyze?field=title&format=yaml', data=\"Fire with Fire\")\n",
    "print resp.text"
   ]
  },
  {
   "cell_type": "code",
   "execution_count": 32,
   "metadata": {
    "collapsed": false
   },
   "outputs": [
    {
     "name": "stdout",
     "output_type": "stream",
     "text": [
      "Num\tRelevance Score \t\tMovie Title\n",
      "1\t0.694308\t\tAliens\n",
      "2\t0.4339425\t\tCowboys & Aliens\n",
      "3\t0.4185979\t\tThe Basketball Diaries\n",
      "4\t0.4185979\t\tMonsters vs Aliens\n",
      "5\t0.4069433\t\tAliens in the Attic\n",
      "6\t0.347154\t\tAliens vs Predator: Requiem\n",
      "7\t0.33664408\t\tHobo with a Shotgun\n",
      "8\t0.320123\t\tFriends with Kids\n",
      "9\t0.320123\t\tFrom Russia With Love\n",
      "10\t0.29456356\t\tFun with Dick and Jane\n",
      "11\t0.28645036\t\tFrom Paris with Love\n",
      "12\t0.28645036\t\tInterview with the Vampire\n",
      "13\t0.28645036\t\tTo Rome with Love\n",
      "14\t0.28645036\t\tTrouble with the Curve\n",
      "15\t0.26694793\t\tDances with Wolves\n",
      "16\t0.26694793\t\tSleeping with the Enemy\n",
      "17\t0.26694793\t\tJust Go With It\n",
      "18\t0.26694793\t\tGone with the Wind\n",
      "19\t0.25248307\t\tThe Girl Who Played with Fire\n",
      "20\t0.24009225\t\tYou Don't Mess With the Zohan\n",
      "21\t0.23357943\t\tGirl with a Pearl Earring\n",
      "22\t0.23062827\t\tFriends with Benefits\n",
      "23\t0.23062827\t\tMy Week with Marilyn\n",
      "24\t0.23062827\t\tFire with Fire\n",
      "25\t0.21483776\t\tThe Girl with the Dragon Tattoo\n",
      "26\t0.21483776\t\tThe Girl with the Dragon Tattoo\n",
      "27\t0.20179974\t\tDie Hard: With a Vengeance\n",
      "28\t0.20021094\t\tTwin Peaks: Fire Walk with Me\n",
      "29\t0.1729712\t\tCloudy with a Chance of Meatballs 2\n",
      "30\t0.1729712\t\tThe Life Aquatic With Steve Zissou\n",
      "31\t0.1729712\t\tThe Man with the Golden Gun\n",
      "32\t0.1729712\t\tThe Pirates! In an Adventure with Scientists!\n",
      "33\t0.1729712\t\tCloudy with a Chance of Meatballs\n",
      "34\t0.1729712\t\tThe Man with the Iron Fists\n",
      "35\t0.034192882\t\tMeet Dave\n",
      "36\t0.024490807\t\tSemi-Pro\n",
      "37\t0.022589648\t\tSpeed Racer\n",
      "38\t0.020138515\t\tAlien: Resurrection\n",
      "39\t0.019809268\t\tThe Watch\n",
      "40\t0.019722141\t\tBedazzled\n",
      "41\t0.018036053\t\tSpace Jam\n",
      "42\t0.0176306\t\tDistrict 9\n",
      "43\t0.016858796\t\tThey Live\n",
      "44\t0.016779436\t\tTeen Wolf\n",
      "45\t0.015697422\t\tGrown Ups\n",
      "46\t0.013946047\t\tMen in Black 3\n",
      "47\t0.0103063155\t\tThe Flintstones\n",
      "48\t0.010003844\t\tWhite Men Can't Jump\n",
      "49\t0.010003844\t\tCoach Carter\n",
      "50\t0.009426885\t\tGalaxy Quest\n"
     ]
    }
   ],
   "source": [
    "search(query)"
   ]
  },
  {
   "cell_type": "code",
   "execution_count": null,
   "metadata": {
    "collapsed": true
   },
   "outputs": [],
   "source": []
  }
 ],
 "metadata": {
  "kernelspec": {
   "display_name": "Python 2",
   "language": "python",
   "name": "python2"
  },
  "language_info": {
   "codemirror_mode": {
    "name": "ipython",
    "version": 2
   },
   "file_extension": ".py",
   "mimetype": "text/x-python",
   "name": "python",
   "nbconvert_exporter": "python",
   "pygments_lexer": "ipython2",
   "version": "2.7.6"
  }
 },
 "nbformat": 4,
 "nbformat_minor": 0
}

{
 "cells": [
  {
   "cell_type": "code",
   "execution_count": 15,
   "metadata": {
    "collapsed": true
   },
   "outputs": [],
   "source": [
    "import requests\n",
    "import json"
   ]
  },
  {
   "cell_type": "markdown",
   "metadata": {},
   "source": [
    "### Extract movies from tmbd.json"
   ]
  },
  {
   "cell_type": "code",
   "execution_count": 16,
   "metadata": {
    "collapsed": true
   },
   "outputs": [],
   "source": [
    "def extract():\n",
    "    f = open('tmdb.json')\n",
    "    if f:\n",
    "        return json.loads(f.read());"
   ]
  },
  {
   "cell_type": "markdown",
   "metadata": {
    "collapsed": true
   },
   "source": [
    "### Indexing with Bulk API"
   ]
  },
  {
   "cell_type": "code",
   "execution_count": 17,
   "metadata": {
    "collapsed": true
   },
   "outputs": [],
   "source": [
    "def reindex(analysisSettings={}, mappingSettings={}, movieDict={}):\n",
    "    settings = {\n",
    "        \"number_of_ shards\": 1,\n",
    "        \"index\": {\n",
    "            \"analysis\": \"analysisSettings\",\n",
    "        }\n",
    "    }\n",
    "    if mappingSettings:\n",
    "        settings['mappings'] = mappingSettings\n",
    "        \n",
    "    resp = requests.delete('http://192.168.32.10:9200/tmdb')\n",
    "    resp = requests.put('http://192.168.32.10:9200/tmdb', data=json.dumps(settings))\n",
    "    bulkMovies = \"\"\n",
    "    for id, movie in movieDict.iteritems():\n",
    "        addCmd = {\"index\": {\"_index\": \"tmdb\",\n",
    "                           \"_type\": \"movie\",\n",
    "                           \"_id\": movie[\"id\"]}}\n",
    "        bulkMovies += json.dumps(addCmd) + \"\\n\" + json.dumps(movie) + \"\\n\"\n",
    "    resp = requests.post(\"http://192.168.32.10:9200/_bulk\", data=bulkMovies)"
   ]
  },
  {
   "cell_type": "markdown",
   "metadata": {},
   "source": [
    "### Pulling data into Elasticsearch"
   ]
  },
  {
   "cell_type": "code",
   "execution_count": 18,
   "metadata": {
    "collapsed": true
   },
   "outputs": [],
   "source": [
    "movieDict = extract()\n",
    "reindex(movieDict=movieDict)"
   ]
  },
  {
   "cell_type": "markdown",
   "metadata": {},
   "source": [
    "### Search Function"
   ]
  },
  {
   "cell_type": "code",
   "execution_count": 23,
   "metadata": {
    "collapsed": false
   },
   "outputs": [],
   "source": [
    "def search(query):\n",
    "    url = 'http://192.168.32.10:9200/tmdb/movie/_search'\n",
    "    httpResp = requests.get(url, data=json.dumps(query))\n",
    "    searchHits = json.loads(httpResp.text)['hits']\n",
    "    print \"Num\\tRelevance Score \\t\\tMovie Title\"\n",
    "    for idx, hit in enumerate(searchHits['hits']):\n",
    "        print \"%s\\t%s\\t\\t%s\" % (idx + 1, hit['_score'], hit['_source']['title'])"
   ]
  },
  {
   "cell_type": "markdown",
   "metadata": {},
   "source": [
    "### Search query"
   ]
  },
  {
   "cell_type": "code",
   "execution_count": 28,
   "metadata": {
    "collapsed": true
   },
   "outputs": [],
   "source": [
    "usersSearch = 'basketball with cartoon aliens'\n",
    "query = {\n",
    "    \"query\": {\n",
    "        \"multi_match\": {\n",
    "            \"query\": usersSearch,\n",
    "            \"fields\": [\"title^10\", \"overview\"],\n",
    "        }\n",
    "    }\n",
    "}"
   ]
  },
  {
   "cell_type": "code",
   "execution_count": 27,
   "metadata": {
    "collapsed": false
   },
   "outputs": [
    {
     "name": "stdout",
     "output_type": "stream",
     "text": [
      "Num\tRelevance Score \t\tMovie Title\n",
      "1\t0.694308\t\tAliens\n",
      "2\t0.4339425\t\tCowboys & Aliens\n",
      "3\t0.4185979\t\tThe Basketball Diaries\n",
      "4\t0.4185979\t\tMonsters vs Aliens\n",
      "5\t0.4069433\t\tAliens in the Attic\n",
      "6\t0.347154\t\tAliens vs Predator: Requiem\n",
      "7\t0.33664408\t\tHobo with a Shotgun\n",
      "8\t0.320123\t\tFriends with Kids\n",
      "9\t0.320123\t\tFrom Russia With Love\n",
      "10\t0.29456356\t\tFun with Dick and Jane\n"
     ]
    }
   ],
   "source": [
    "search(query)"
   ]
  },
  {
   "cell_type": "code",
   "execution_count": null,
   "metadata": {
    "collapsed": true
   },
   "outputs": [],
   "source": []
  }
 ],
 "metadata": {
  "kernelspec": {
   "display_name": "Python 2",
   "language": "python",
   "name": "python2"
  },
  "language_info": {
   "codemirror_mode": {
    "name": "ipython",
    "version": 2
   },
   "file_extension": ".py",
   "mimetype": "text/x-python",
   "name": "python",
   "nbconvert_exporter": "python",
   "pygments_lexer": "ipython2",
   "version": "2.7.6"
  }
 },
 "nbformat": 4,
 "nbformat_minor": 0
}

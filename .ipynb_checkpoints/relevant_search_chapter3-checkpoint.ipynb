{
 "cells": [
  {
   "cell_type": "code",
   "execution_count": 48,
   "metadata": {
    "collapsed": true
   },
   "outputs": [],
   "source": [
    "import requests\n",
    "import json"
   ]
  },
  {
   "cell_type": "markdown",
   "metadata": {},
   "source": [
    "### Extract movies from tmbd.json"
   ]
  },
  {
   "cell_type": "code",
   "execution_count": 49,
   "metadata": {
    "collapsed": true
   },
   "outputs": [],
   "source": [
    "def extract():\n",
    "    f = open('tmdb.json')\n",
    "    if f:\n",
    "        return json.loads(f.read());"
   ]
  },
  {
   "cell_type": "markdown",
   "metadata": {
    "collapsed": true
   },
   "source": [
    "### Indexing with Bulk API"
   ]
  },
  {
   "cell_type": "code",
   "execution_count": 50,
   "metadata": {
    "collapsed": true
   },
   "outputs": [],
   "source": [
    "def reindex(analysisSettings={}, mappingSettings={}, movieDict={}):\n",
    "    settings = {\n",
    "        \"number_of_ shards\": 1,\n",
    "        \"index\": {\n",
    "            \"analysis\": \"analysisSettings\",\n",
    "        }\n",
    "    }\n",
    "    if mappingSettings:\n",
    "        settings['mappings'] = mappingSettings\n",
    "        \n",
    "    resp = requests.delete('http://192.168.32.10:9200/tmdb')\n",
    "    resp = requests.put('http://192.168.32.10:9200/tmdb', data=json.dumps(settings))\n",
    "    bulkMovies = \"\"\n",
    "    for id, movie in movieDict.iteritems():\n",
    "        addCmd = {\"index\": {\"_index\": \"tmdb\",\n",
    "                           \"_type\": \"movie\",\n",
    "                           \"_id\": movie[\"id\"]}}\n",
    "        bulkMovies += json.dumps(addCmd) + \"\\n\" + json.dumps(movie) + \"\\n\"\n",
    "    resp = requests.post(\"http://192.168.32.10:9200/_bulk\", data=bulkMovies)"
   ]
  },
  {
   "cell_type": "markdown",
   "metadata": {},
   "source": [
    "### Pulling data into Elasticsearch"
   ]
  },
  {
   "cell_type": "code",
   "execution_count": 51,
   "metadata": {
    "collapsed": true
   },
   "outputs": [],
   "source": [
    "movieDict = extract()\n",
    "reindex(movieDict=movieDict)"
   ]
  },
  {
   "cell_type": "markdown",
   "metadata": {},
   "source": [
    "### Search Function"
   ]
  },
  {
   "cell_type": "code",
   "execution_count": 52,
   "metadata": {
    "collapsed": false
   },
   "outputs": [],
   "source": [
    "def search(query):\n",
    "    url = 'http://192.168.32.10:9200/tmdb/movie/_search'\n",
    "    httpResp = requests.get(url, data=json.dumps(query))\n",
    "    searchHits = json.loads(httpResp.text)['hits']\n",
    "    print \"Num\\tRelevance Score \\t\\tMovie Title\"\n",
    "    for idx, hit in enumerate(searchHits['hits']):\n",
    "        print \"%s\\t%s\\t\\t%s\" % (idx + 1, hit['_score'], hit['_source']['title'])"
   ]
  },
  {
   "cell_type": "markdown",
   "metadata": {},
   "source": [
    "### Search query"
   ]
  },
  {
   "cell_type": "code",
   "execution_count": 53,
   "metadata": {
    "collapsed": false
   },
   "outputs": [],
   "source": [
    "usersSearch = 'basketball with cartoon aliens'\n",
    "query = {\n",
    "    \"size\": \"20\",\n",
    "    \"query\": {\n",
    "        \"multi_match\": {\n",
    "            \"query\": usersSearch,\n",
    "            \"fields\": [\"title^0.1\", \"overview\"],\n",
    "        }\n",
    "    }\n",
    "}"
   ]
  },
  {
   "cell_type": "code",
   "execution_count": 57,
   "metadata": {
    "collapsed": false
   },
   "outputs": [
    {
     "name": "stdout",
     "output_type": "stream",
     "text": [
      "Num\tRelevance Score \t\tMovie Title\n",
      "1\t0.40751222\t\tMeet Dave\n",
      "2\t0.27429563\t\tSemi-Pro\n",
      "3\t0.26320052\t\tSpeed Racer\n",
      "4\t0.25425476\t\tAliens in the Attic\n",
      "5\t0.23608768\t\tThe Watch\n",
      "6\t0.23464145\t\tAlien: Resurrection\n",
      "7\t0.23318566\t\tBedazzled\n",
      "8\t0.21495439\t\tSpace Jam\n",
      "9\t0.20845622\t\tDistrict 9\n",
      "10\t0.20734486\t\tTeen Wolf\n",
      "11\t0.18881755\t\tThey Live\n",
      "12\t0.18289658\t\tGrown Ups\n",
      "13\t0.17233244\t\tMen in Black 3\n",
      "14\t0.12361832\t\tWhite Men Can't Jump\n",
      "15\t0.12361832\t\tCoach Carter\n",
      "16\t0.122831084\t\tThe Flintstones\n",
      "17\t0.11145923\t\tGalaxy Quest\n",
      "18\t0.10765152\t\tPitch Black\n",
      "19\t0.098894656\t\tBatteries Not Included\n",
      "20\t0.09270038\t\tHigh School Musical\n"
     ]
    }
   ],
   "source": [
    "search(query)"
   ]
  },
  {
   "cell_type": "markdown",
   "metadata": {
    "collapsed": true
   },
   "source": [
    "### Debugging Analysis"
   ]
  },
  {
   "cell_type": "code",
   "execution_count": 55,
   "metadata": {
    "collapsed": false
   },
   "outputs": [
    {
     "name": "stdout",
     "output_type": "stream",
     "text": [
      "---\n",
      "tokens:\n",
      "- token: \"fire\"\n",
      "  start_offset: 0\n",
      "  end_offset: 4\n",
      "  type: \"<ALPHANUM>\"\n",
      "  position: 0\n",
      "- token: \"with\"\n",
      "  start_offset: 5\n",
      "  end_offset: 9\n",
      "  type: \"<ALPHANUM>\"\n",
      "  position: 1\n",
      "- token: \"fire\"\n",
      "  start_offset: 10\n",
      "  end_offset: 14\n",
      "  type: \"<ALPHANUM>\"\n",
      "  position: 2\n",
      "\n"
     ]
    }
   ],
   "source": [
    "resp = requests.get('http://192.168.32.10:9200/tmdb/_analyze?analyzer=standard&format=yaml', data=\"Fire with Fire\")\n",
    "\n",
    "print resp.text\n",
    "\n"
   ]
  },
  {
   "cell_type": "markdown",
   "metadata": {},
   "source": [
    "### Reindexing with English analyser"
   ]
  },
  {
   "cell_type": "code",
   "execution_count": 56,
   "metadata": {
    "collapsed": true
   },
   "outputs": [],
   "source": [
    "mappingSettings = {\n",
    "    \"movie\": {\n",
    "        \"properties\": {\n",
    "            \"title\": {\n",
    "                \"type\": \"string\",\n",
    "                \"analyser\": \"english\"\n",
    "                },\n",
    "            \"overview\": {\n",
    "                \"type\": \"string\",\n",
    "                \"analyser\": \"english\"\n",
    "            }\n",
    "        }\n",
    "    }\n",
    "}\n",
    "movieDict = extract()\n",
    "reindex(mappingSettings=mappingSettings, movieDict=movieDict)"
   ]
  },
  {
   "cell_type": "code",
   "execution_count": 31,
   "metadata": {
    "collapsed": false
   },
   "outputs": [
    {
     "name": "stdout",
     "output_type": "stream",
     "text": [
      "---\n",
      "tokens:\n",
      "- token: \"fire\"\n",
      "  start_offset: 0\n",
      "  end_offset: 4\n",
      "  type: \"<ALPHANUM>\"\n",
      "  position: 0\n",
      "- token: \"with\"\n",
      "  start_offset: 5\n",
      "  end_offset: 9\n",
      "  type: \"<ALPHANUM>\"\n",
      "  position: 1\n",
      "- token: \"fire\"\n",
      "  start_offset: 10\n",
      "  end_offset: 14\n",
      "  type: \"<ALPHANUM>\"\n",
      "  position: 2\n",
      "\n"
     ]
    }
   ],
   "source": [
    "resp = requests.get('http://192.168.32.10:9200/tmdb/_analyze?field=title&format=yaml', data=\"Fire with Fire\")\n",
    "print resp.text"
   ]
  },
  {
   "cell_type": "markdown",
   "metadata": {},
   "source": [
    "### Requesting a relavancy score explanation"
   ]
  },
  {
   "cell_type": "code",
   "execution_count": 47,
   "metadata": {
    "collapsed": false
   },
   "outputs": [
    {
     "name": "stdout",
     "output_type": "stream",
     "text": [
      "Explain for Aliens\n",
      "{\n",
      " \"description\": \"sum of:\", \n",
      " \"value\": 0.69430804, \n",
      " \"details\": [\n",
      "  {\n",
      "   \"description\": \"max of:\", \n",
      "   \"value\": 0.69430804, \n",
      "   \"details\": [\n",
      "    {\n",
      "     \"description\": \"product of:\", \n",
      "     \"value\": 0.69430804, \n",
      "     \"details\": [\n",
      "      {\n",
      "       \"description\": \"sum of:\", \n",
      "       \"value\": 2.7772322, \n",
      "       \"details\": [\n",
      "        {\n",
      "         \"description\": \"weight(title:aliens in 129) [PerFieldSimilarity], result of:\", \n",
      "         \"value\": 2.7772322, \n",
      "         \"details\": [\n",
      "          {\n",
      "           \"description\": \"score(doc=129,freq=1.0), product of:\", \n",
      "           \"value\": 2.7772322, \n",
      "           \"details\": [\n",
      "            {\n",
      "             \"description\": \"queryWeight, product of:\", \n",
      "             \"value\": 0.4547279, \n",
      "             \"details\": [\n",
      "              {\n",
      "               \"description\": \"boost\", \n",
      "               \"value\": 10.0, \n",
      "               \"details\": []\n",
      "              }, \n",
      "              {\n",
      "               \"description\": \"idf(docFreq=3, maxDocs=661)\", \n",
      "               \"value\": 6.1074595, \n",
      "               \"details\": []\n",
      "              }, \n",
      "              {\n",
      "               \"description\": \"queryNorm\", \n",
      "               \"value\": 0.0074454504, \n",
      "               \"details\": []\n",
      "              }\n",
      "             ]\n",
      "            }, \n",
      "            {\n",
      "             \"description\": \"fieldWeight in 129, product of:\", \n",
      "             \"value\": 6.1074595, \n",
      "             \"details\": [\n",
      "              {\n",
      "               \"description\": \"tf(freq=1.0), with freq of:\", \n",
      "               \"value\": 1.0, \n",
      "               \"details\": [\n",
      "                {\n",
      "                 \"description\": \"termFreq=1.0\", \n",
      "                 \"value\": 1.0, \n",
      "                 \"details\": []\n",
      "                }\n",
      "               ]\n",
      "              }, \n",
      "              {\n",
      "               \"description\": \"idf(docFreq=3, maxDocs=661)\", \n",
      "               \"value\": 6.1074595, \n",
      "               \"details\": []\n",
      "              }, \n",
      "              {\n",
      "               \"description\": \"fieldNorm(doc=129)\", \n",
      "               \"value\": 1.0, \n",
      "               \"details\": []\n",
      "              }\n",
      "             ]\n",
      "            }\n",
      "           ]\n",
      "          }\n",
      "         ]\n",
      "        }\n",
      "       ]\n",
      "      }, \n",
      "      {\n",
      "       \"description\": \"coord(1/4)\", \n",
      "       \"value\": 0.25, \n",
      "       \"details\": []\n",
      "      }\n",
      "     ]\n",
      "    }, \n",
      "    {\n",
      "     \"description\": \"product of:\", \n",
      "     \"value\": 0.00095474755, \n",
      "     \"details\": [\n",
      "      {\n",
      "       \"description\": \"sum of:\", \n",
      "       \"value\": 0.0038189902, \n",
      "       \"details\": [\n",
      "        {\n",
      "         \"description\": \"weight(overview:with in 129) [PerFieldSimilarity], result of:\", \n",
      "         \"value\": 0.0038189902, \n",
      "         \"details\": [\n",
      "          {\n",
      "           \"description\": \"score(doc=129,freq=1.0), product of:\", \n",
      "           \"value\": 0.0038189902, \n",
      "           \"details\": [\n",
      "            {\n",
      "             \"description\": \"queryWeight, product of:\", \n",
      "             \"value\": 0.015082202, \n",
      "             \"details\": [\n",
      "              {\n",
      "               \"description\": \"idf(docFreq=236, maxDocs=661)\", \n",
      "               \"value\": 2.0256937, \n",
      "               \"details\": []\n",
      "              }, \n",
      "              {\n",
      "               \"description\": \"queryNorm\", \n",
      "               \"value\": 0.0074454504, \n",
      "               \"details\": []\n",
      "              }\n",
      "             ]\n",
      "            }, \n",
      "            {\n",
      "             \"description\": \"fieldWeight in 129, product of:\", \n",
      "             \"value\": 0.2532117, \n",
      "             \"details\": [\n",
      "              {\n",
      "               \"description\": \"tf(freq=1.0), with freq of:\", \n",
      "               \"value\": 1.0, \n",
      "               \"details\": [\n",
      "                {\n",
      "                 \"description\": \"termFreq=1.0\", \n",
      "                 \"value\": 1.0, \n",
      "                 \"details\": []\n",
      "                }\n",
      "               ]\n",
      "              }, \n",
      "              {\n",
      "               \"description\": \"idf(docFreq=236, maxDocs=661)\", \n",
      "               \"value\": 2.0256937, \n",
      "               \"details\": []\n",
      "              }, \n",
      "              {\n",
      "               \"description\": \"fieldNorm(doc=129)\", \n",
      "               \"value\": 0.125, \n",
      "               \"details\": []\n",
      "              }\n",
      "             ]\n",
      "            }\n",
      "           ]\n",
      "          }\n",
      "         ]\n",
      "        }\n",
      "       ]\n",
      "      }, \n",
      "      {\n",
      "       \"description\": \"coord(1/4)\", \n",
      "       \"value\": 0.25, \n",
      "       \"details\": []\n",
      "      }\n",
      "     ]\n",
      "    }\n",
      "   ]\n",
      "  }, \n",
      "  {\n",
      "   \"description\": \"match on required clause, product of:\", \n",
      "   \"value\": 0.0, \n",
      "   \"details\": [\n",
      "    {\n",
      "     \"description\": \"# clause\", \n",
      "     \"value\": 0.0, \n",
      "     \"details\": []\n",
      "    }, \n",
      "    {\n",
      "     \"description\": \"_type:movie, product of:\", \n",
      "     \"value\": 0.0074454504, \n",
      "     \"details\": [\n",
      "      {\n",
      "       \"description\": \"boost\", \n",
      "       \"value\": 1.0, \n",
      "       \"details\": []\n",
      "      }, \n",
      "      {\n",
      "       \"description\": \"queryNorm\", \n",
      "       \"value\": 0.0074454504, \n",
      "       \"details\": []\n",
      "      }\n",
      "     ]\n",
      "    }\n",
      "   ]\n",
      "  }\n",
      " ]\n",
      "}\n"
     ]
    }
   ],
   "source": [
    "query = {\n",
    "    \"explain\": True,\n",
    "    \"query\": {\n",
    "        \"multi_match\":{\n",
    "            \"query\": usersSearch,\n",
    "            \"fields\": [\"title^10\", \"overview\"]\n",
    "        }\n",
    "    }\n",
    "}\n",
    "httpResp = requests.get('http://192.168.32.10:9200/tmdb/movie/_search', data=json.dumps(query))\n",
    "jsonResp = json.loads(httpResp.text)\n",
    "print \"Explain for %s\" % jsonResp['hits']['hits'][0]['_source']['title']\n",
    "print json.dumps(jsonResp['hits']['hits'][0]['_explanation'], indent=True)"
   ]
  },
  {
   "cell_type": "code",
   "execution_count": null,
   "metadata": {
    "collapsed": true
   },
   "outputs": [],
   "source": []
  }
 ],
 "metadata": {
  "kernelspec": {
   "display_name": "Python 2",
   "language": "python",
   "name": "python2"
  },
  "language_info": {
   "codemirror_mode": {
    "name": "ipython",
    "version": 2
   },
   "file_extension": ".py",
   "mimetype": "text/x-python",
   "name": "python",
   "nbconvert_exporter": "python",
   "pygments_lexer": "ipython2",
   "version": "2.7.6"
  }
 },
 "nbformat": 4,
 "nbformat_minor": 0
}

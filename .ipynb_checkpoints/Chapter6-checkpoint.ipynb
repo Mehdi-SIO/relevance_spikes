{
 "cells": [
  {
   "cell_type": "code",
   "execution_count": 19,
   "metadata": {
    "collapsed": false
   },
   "outputs": [],
   "source": [
    "import requests\n",
    "import json"
   ]
  },
  {
   "cell_type": "code",
   "execution_count": 41,
   "metadata": {
    "collapsed": true
   },
   "outputs": [],
   "source": [
    "def reindex(analysisSettings={}, mappingSettings={}, movieDict={}):\n",
    "    settings = {\n",
    "        \"number_of_ shards\": 1,\n",
    "        \"index\": {\n",
    "            \"analysis\": analysisSettings,\n",
    "        }\n",
    "    }\n",
    "    if mappingSettings:\n",
    "        settings['mappings'] = mappingSettings\n",
    "        \n",
    "    resp = requests.delete('http://192.168.32.10:9200/tmdb')\n",
    "    resp = requests.put('http://192.168.32.10:9200/tmdb', data=json.dumps(settings))\n",
    "    bulkMovies = \"\"\n",
    "    for id, movie in movieDict.iteritems():\n",
    "        addCmd = {\"index\": {\"_index\": \"tmdb\",\n",
    "                           \"_type\": \"movie\",\n",
    "                           \"_id\": movie[\"id\"]}}\n",
    "        bulkMovies += json.dumps(addCmd) + \"\\n\" + json.dumps(movie) + \"\\n\"\n",
    "    resp = requests.post(\"http://192.168.32.10:9200/_bulk\", data=bulkMovies)"
   ]
  },
  {
   "cell_type": "code",
   "execution_count": 49,
   "metadata": {
    "collapsed": true
   },
   "outputs": [],
   "source": [
    "def extract():\n",
    "    f = open('tmdb.json')\n",
    "    if f:\n",
    "        return json.loads(f.read());"
   ]
  },
  {
   "cell_type": "code",
   "execution_count": 50,
   "metadata": {
    "collapsed": true
   },
   "outputs": [],
   "source": [
    "def search(query):\n",
    "    url = 'http://192.168.32.10:9200/tmdb/movie/_search'\n",
    "    httpResp = requests.get(url, data=json.dumps(query))\n",
    "    searchHits = json.loads(httpResp.text)['hits']\n",
    "    print \"Num\\tRelevance Score \\t\\tMovie Title\"\n",
    "    for idx, hit in enumerate(searchHits['hits']):\n",
    "        print \"%s\\t%s\\t\\t%s\" % (idx + 1, hit['_score'], hit['_source']['title'])"
   ]
  },
  {
   "cell_type": "code",
   "execution_count": 29,
   "metadata": {
    "collapsed": false
   },
   "outputs": [],
   "source": [
    "usersSearch = 'star trek patrick stewart william shatner'\n",
    "query = {\n",
    "    \"query\":{\n",
    "        \"query_string\":{\n",
    "            \"query\": usersSearch,\n",
    "            \"fields\": [\"title\", \"overview\", \"cast.name^10\", \"directors.name\"],\n",
    "        }\n",
    "    },\n",
    "    \"size\": 5,\n",
    "    \"explain\": True\n",
    "}\n"
   ]
  },
  {
   "cell_type": "code",
   "execution_count": 9,
   "metadata": {
    "collapsed": false
   },
   "outputs": [
    {
     "name": "stdout",
     "output_type": "stream",
     "text": [
      "Num\tRelevance Score \t\tMovie Title\n",
      "1\t0.21982981\t\tStar Trek: Nemesis\n",
      "2\t0.16617933\t\tStar Trek: Generations\n",
      "3\t0.14886102\t\tStar Trek IV: The Voyage Home\n",
      "4\t0.11131736\t\tStar Trek\n",
      "5\t0.089053884\t\tStar Trek: First Contact\n"
     ]
    }
   ],
   "source": [
    "search(query)"
   ]
  },
  {
   "cell_type": "code",
   "execution_count": 24,
   "metadata": {
    "collapsed": false
   },
   "outputs": [
    {
     "name": "stdout",
     "output_type": "stream",
     "text": [
      "Num\tRelevance Score \t\tMovie Title\n",
      "1\t1.3178725\t\tStar Trek: Nemesis\n",
      "2\t1.1268497\t\tStar Trek IV: The Voyage Home\n",
      "3\t0.8510847\t\tStar Trek\n",
      "4\t0.68086785\t\tStar Trek: First Contact\n",
      "5\t0.60959524\t\tStar Trek: Generations\n"
     ]
    }
   ],
   "source": [
    "search(query)"
   ]
  },
  {
   "cell_type": "code",
   "execution_count": 28,
   "metadata": {
    "collapsed": false
   },
   "outputs": [
    {
     "name": "stdout",
     "output_type": "stream",
     "text": [
      "Num\tRelevance Score \t\tMovie Title\n",
      "1\t2.9295588\t\tStar Trek V: The Final Frontier\n",
      "2\t2.4750872\t\tStar Trek: Generations\n",
      "3\t2.448519\t\tStar Trek: Nemesis\n",
      "4\t1.557524\t\tStar Trek: First Contact\n",
      "5\t1.3621734\t\tStar Trek: Insurrection\n"
     ]
    }
   ],
   "source": [
    "search(query)"
   ]
  },
  {
   "cell_type": "code",
   "execution_count": 30,
   "metadata": {
    "collapsed": false
   },
   "outputs": [
    {
     "name": "stdout",
     "output_type": "stream",
     "text": [
      "Num\tRelevance Score \t\tMovie Title\n",
      "1\t1.1397538\t\tStar Trek: Generations\n",
      "2\t0.6013422\t\tStar Trek: Nemesis\n",
      "3\t0.58411956\t\tStar Trek V: The Final Frontier\n",
      "4\t0.53611517\t\tStar Trek II: The Wrath of Khan\n",
      "5\t0.48865876\t\tStar Trek: The Motion Picture\n"
     ]
    }
   ],
   "source": [
    "search(query)"
   ]
  },
  {
   "cell_type": "markdown",
   "metadata": {},
   "source": [
    "### Mapping for custom all field"
   ]
  },
  {
   "cell_type": "code",
   "execution_count": 85,
   "metadata": {
    "collapsed": false
   },
   "outputs": [],
   "source": [
    "mappingSettings = {\n",
    "    \"movie\": {\n",
    "        \"properties\": {\n",
    "            \"people\": {\n",
    "                \"properties\": {\n",
    "                    \"name\": {\n",
    "                        \"type\": \"string\",\n",
    "                        \"analyzer\": \"english\",\n",
    "                        \"fields\": {\n",
    "                            \"bigrammed\": {\n",
    "                                \"type\": \"string\",\n",
    "                                \"analyzer\": \"englsh_bigrams\"\n",
    "                                }}}}},\n",
    "            \"cast\": {\n",
    "                \"properties\": {\n",
    "                    \"name\": {\n",
    "                        \"type\": \"string\",\n",
    "                        \"analyzer\": \"english\",\n",
    "                        \"copy_to\": \"people.name\",\n",
    "                        \"fields\": {\n",
    "                            \"bigrammed\": {\n",
    "                                \"type\": \"string\",\n",
    "                                \"analyzer\": \"english_bigrams\"\n",
    "                            }\n",
    "                        }\n",
    "                    }\n",
    "                }\n",
    "            }\n",
    "        }\n",
    "    }\n",
    "}"
   ]
  },
  {
   "cell_type": "code",
   "execution_count": 86,
   "metadata": {
    "collapsed": false
   },
   "outputs": [],
   "source": [
    "movieDict = extract()\n",
    "analysisSettings={}\n",
    "reindex(analysisSettings, mappingSettings, movieDict)"
   ]
  },
  {
   "cell_type": "code",
   "execution_count": 89,
   "metadata": {
    "collapsed": false
   },
   "outputs": [
    {
     "name": "stdout",
     "output_type": "stream",
     "text": [
      "Num\tRelevance Score \t\tMovie Title\n",
      "1\t0.3702025\t\tPanic Room\n",
      "2\t0.34714928\t\tStar Trek: Insurrection\n",
      "3\t0.34714928\t\tExcalibur\n",
      "4\t0.3369333\t\tVertigo\n",
      "5\t0.33260775\t\tGnomeo & Juliet\n",
      "6\t0.3189207\t\tConspiracy Theory\n",
      "7\t0.3189207\t\tStar Trek: First Contact\n",
      "8\t0.30435795\t\tStar Trek: Nemesis\n",
      "9\t0.30375564\t\tThe Wolverine\n",
      "10\t0.30375564\t\tSave the Last Dance\n"
     ]
    }
   ],
   "source": [
    "usersSearch = 'patrick stewart'\n",
    "query = {\n",
    "    \"query\":{\n",
    "        \"match\": {\n",
    "            \"_all\": usersSearch,\n",
    "        }     \n",
    "    }\n",
    "}\n",
    "search(query)"
   ]
  },
  {
   "cell_type": "code",
   "execution_count": null,
   "metadata": {
    "collapsed": true
   },
   "outputs": [],
   "source": []
  },
  {
   "cell_type": "code",
   "execution_count": null,
   "metadata": {
    "collapsed": true
   },
   "outputs": [],
   "source": []
  }
 ],
 "metadata": {
  "kernelspec": {
   "display_name": "Python 2",
   "language": "python",
   "name": "python2"
  },
  "language_info": {
   "codemirror_mode": {
    "name": "ipython",
    "version": 2
   },
   "file_extension": ".py",
   "mimetype": "text/x-python",
   "name": "python",
   "nbconvert_exporter": "python",
   "pygments_lexer": "ipython2",
   "version": "2.7.6"
  }
 },
 "nbformat": 4,
 "nbformat_minor": 0
}

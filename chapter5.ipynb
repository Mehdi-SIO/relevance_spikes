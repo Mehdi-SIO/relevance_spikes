{
 "cells": [
  {
   "cell_type": "code",
   "execution_count": 10,
   "metadata": {
    "collapsed": true
   },
   "outputs": [],
   "source": [
    "import json\n",
    "import requests"
   ]
  },
  {
   "cell_type": "code",
   "execution_count": 11,
   "metadata": {
    "collapsed": true
   },
   "outputs": [],
   "source": [
    "def extract():\n",
    "    f = open('tmdb.json')\n",
    "    if f:\n",
    "        return json.loads(f.read());"
   ]
  },
  {
   "cell_type": "code",
   "execution_count": 12,
   "metadata": {
    "collapsed": true
   },
   "outputs": [],
   "source": [
    "movieDict = extract()\n",
    "analysis = {\n",
    "    \"analyser\": {\n",
    "        \"default\": {\n",
    "            \"type\": \"english\"\n",
    "        }\n",
    "    }\n",
    "}"
   ]
  },
  {
   "cell_type": "code",
   "execution_count": 13,
   "metadata": {
    "collapsed": true
   },
   "outputs": [],
   "source": [
    "def reindex(analysisSettings={}, mappingSettings={}, movieDict={}):\n",
    "    settings = {\n",
    "        \"number_of_ shards\": 1,\n",
    "        \"index\": {\n",
    "            \"analysis\": analysisSettings,\n",
    "        }\n",
    "    }\n",
    "    if mappingSettings:\n",
    "        settings['mappings'] = mappingSettings\n",
    "        \n",
    "    resp = requests.delete('http://192.168.32.10:9200/tmdb')\n",
    "    resp = requests.put('http://192.168.32.10:9200/tmdb', data=json.dumps(settings))\n",
    "    bulkMovies = \"\"\n",
    "    for id, movie in movieDict.iteritems():\n",
    "        addCmd = {\"index\": {\"_index\": \"tmdb\",\n",
    "                           \"_type\": \"movie\",\n",
    "                           \"_id\": movie[\"id\"]}}\n",
    "        bulkMovies += json.dumps(addCmd) + \"\\n\" + json.dumps(movie) + \"\\n\"\n",
    "    resp = requests.post(\"http://192.168.32.10:9200/_bulk\", data=bulkMovies)"
   ]
  },
  {
   "cell_type": "code",
   "execution_count": null,
   "metadata": {
    "collapsed": true
   },
   "outputs": [],
   "source": [
    "reindex(analysisSettings=analysis, mappingSettings=None, movieDict=movieDict)"
   ]
  },
  {
   "cell_type": "code",
   "execution_count": 6,
   "metadata": {
    "collapsed": true
   },
   "outputs": [],
   "source": [
    "usersSearch = 'basketball with cartoon aliens'\n",
    "query = {\n",
    "    \"size\": \"20\",\n",
    "    \"query\": {\n",
    "        \"multi_match\": {\n",
    "            \"query\": usersSearch,\n",
    "            \"fields\": [\"title^0.1\", \"overview\"],\n",
    "        }\n",
    "    }\n",
    "}"
   ]
  },
  {
   "cell_type": "code",
   "execution_count": 8,
   "metadata": {
    "collapsed": false
   },
   "outputs": [],
   "source": [
    "def search(query):\n",
    "    url = 'http://192.168.32.10:9200/tmdb/movie/_search'\n",
    "    httpResp = requests.get(url, data=json.dumps(query))\n",
    "    searchHits = json.loads(httpResp.text)['hits']\n",
    "    print \"Num\\tRelevance Score \\t\\tMovie Title\"\n",
    "    for idx, hit in enumerate(searchHits['hits']):\n",
    "        print \"%s\\t%s\\t\\t%s\" % (idx + 1, hit['_score'], hit['_source']['title'])"
   ]
  },
  {
   "cell_type": "code",
   "execution_count": 9,
   "metadata": {
    "collapsed": false
   },
   "outputs": [
    {
     "name": "stdout",
     "output_type": "stream",
     "text": [
      "Num\tRelevance Score \t\tMovie Title\n",
      "1\t0.40751222\t\tMeet Dave\n",
      "2\t0.27429563\t\tSemi-Pro\n",
      "3\t0.26320052\t\tSpeed Racer\n",
      "4\t0.25425476\t\tAliens in the Attic\n",
      "5\t0.23608768\t\tThe Watch\n",
      "6\t0.23464145\t\tAlien: Resurrection\n",
      "7\t0.23318566\t\tBedazzled\n",
      "8\t0.21495439\t\tSpace Jam\n",
      "9\t0.20845622\t\tDistrict 9\n",
      "10\t0.20734486\t\tTeen Wolf\n",
      "11\t0.18881755\t\tThey Live\n",
      "12\t0.18289658\t\tGrown Ups\n",
      "13\t0.17233244\t\tMen in Black 3\n",
      "14\t0.12361832\t\tWhite Men Can't Jump\n",
      "15\t0.12361832\t\tCoach Carter\n",
      "16\t0.122831084\t\tThe Flintstones\n",
      "17\t0.11145923\t\tGalaxy Quest\n",
      "18\t0.10765152\t\tPitch Black\n",
      "19\t0.098894656\t\tBatteries Not Included\n",
      "20\t0.09270038\t\tHigh School Musical\n"
     ]
    }
   ],
   "source": [
    "search(query)"
   ]
  },
  {
   "cell_type": "code",
   "execution_count": null,
   "metadata": {
    "collapsed": true
   },
   "outputs": [],
   "source": []
  }
 ],
 "metadata": {
  "kernelspec": {
   "display_name": "Python 2",
   "language": "python",
   "name": "python2"
  },
  "language_info": {
   "codemirror_mode": {
    "name": "ipython",
    "version": 2
   },
   "file_extension": ".py",
   "mimetype": "text/x-python",
   "name": "python",
   "nbconvert_exporter": "python",
   "pygments_lexer": "ipython2",
   "version": "2.7.6"
  }
 },
 "nbformat": 4,
 "nbformat_minor": 0
}
